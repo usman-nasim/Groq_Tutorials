{
 "cells": [
  {
   "cell_type": "markdown",
   "metadata": {},
   "source": [
    "# A very simple Use Case"
   ]
  },
  {
   "cell_type": "code",
   "execution_count": null,
   "metadata": {},
   "outputs": [],
   "source": [
    "!pip install -U groq instructor python-dotenv"
   ]
  },
  {
   "cell_type": "code",
   "execution_count": 17,
   "metadata": {},
   "outputs": [
    {
     "name": "stdout",
     "output_type": "stream",
     "text": [
      "Name: usman hy\n",
      "Age: 0\n",
      "Email: usman.o@com\n"
     ]
    }
   ],
   "source": [
    "import instructor\n",
    "from dotenv import load_dotenv\n",
    "from pydantic import BaseModel\n",
    "from groq import Groq\n",
    "\n",
    "# Load the Groq API key from .env file\n",
    "load_dotenv()\n",
    "\n",
    "# Describe the desired output schema using pydantic models\n",
    "class UserInfo(BaseModel):\n",
    "    name: str\n",
    "    age: int\n",
    "    email: str\n",
    "\n",
    "# The text to extract data from\n",
    "text = \"\"\"\n",
    "name usman hy age infinite hy email usman.o@com\n",
    "\"\"\"\n",
    "\n",
    "# Patch Groq() with instructor, this is where the magic happens!\n",
    "client = instructor.from_groq(Groq(), mode=instructor.Mode.JSON)\n",
    "\n",
    "# Call the API\n",
    "user_info = client.chat.completions.create(\n",
    "    model=\"llama-3.1-70b-versatile\",\n",
    "    response_model=UserInfo, # Specify the response model\n",
    "    messages=[\n",
    "        {\"role\": \"system\", \"content\": \"Your job is to extract user information from the given text.\"},\n",
    "        {\"role\": \"user\", \"content\": text}\n",
    "    ],\n",
    "    temperature=0.65,\n",
    ")\n",
    "\n",
    "print(f\"Name: {user_info.name}\")\n",
    "print(f\"Age: {user_info.age}\")\n",
    "print(f\"Email: {user_info.email}\")"
   ]
  },
  {
   "cell_type": "markdown",
   "metadata": {},
   "source": [
    "# A Serious Use Case"
   ]
  },
  {
   "cell_type": "code",
   "execution_count": 18,
   "metadata": {},
   "outputs": [
    {
     "data": {
      "text/plain": [
       "True"
      ]
     },
     "execution_count": 18,
     "metadata": {},
     "output_type": "execute_result"
    }
   ],
   "source": [
    "# Generating Synthetic Data\n",
    "from pprint import pprint\n",
    "\n",
    "import instructor\n",
    "from dotenv import load_dotenv\n",
    "from pydantic import BaseModel, Field\n",
    "from groq import Groq\n",
    "\n",
    "# load the groq api key\n",
    "load_dotenv()"
   ]
  },
  {
   "cell_type": "code",
   "execution_count": 19,
   "metadata": {},
   "outputs": [],
   "source": [
    "prompt = \"\"\"\n",
    "I am designing a weather agent. This agent can talk to the user and also fetch latest weather information.\n",
    "It has access to the `get_weather_info` tool with the following JSON schema:\n",
    "{json_schema}\n",
    "\n",
    "I want you to write some examples for `get_weather_info` and see if this functionality works correctly and can handle all the cases. \n",
    "Now given the information so far and the JSON schema of the provided tool, write {num} examples.\n",
    "Make sure each example is varied enough to cover common ways of requesting for this functionality.\n",
    "Make sure you fill the function parameters with the correct types when generating the output examples. \n",
    "Make sure your output is valid JSON.\n",
    "\"\"\""
   ]
  },
  {
   "cell_type": "code",
   "execution_count": 20,
   "metadata": {},
   "outputs": [],
   "source": [
    "class Example(BaseModel):\n",
    "    input_text: str = Field(description=\"The example text\")\n",
    "    tool_name: str = Field(description=\"The tool name to call for this example\")\n",
    "    tool_parameters: str = Field(description=\"An object containing the key-value pairs for the parameters of this tool as a JSON serializbale STRING, make sure it is valid JSON and parameter values are of the correct type according to the tool schema\")\n",
    "\n",
    "class ResponseModel(BaseModel):\n",
    "    examples: list[Example]"
   ]
  },
  {
   "cell_type": "code",
   "execution_count": 21,
   "metadata": {},
   "outputs": [
    {
     "name": "stdout",
     "output_type": "stream",
     "text": [
      "<class '__main__.ResponseModel'>\n",
      "[Example(input_text='What is the weather like in New York?', tool_name='get_weather_info', tool_parameters='{\"location\": \"New York\"}'),\n",
      " Example(input_text='I want to know the weather in London', tool_name='get_weather_info', tool_parameters='{\"location\": \"London\"}'),\n",
      " Example(input_text='Can you tell me the weather in Paris?', tool_name='get_weather_info', tool_parameters='{\"location\": \"Paris\"}'),\n",
      " Example(input_text=\"What's the weather like in Beijing?\", tool_name='get_weather_info', tool_parameters='{\"location\": \"Beijing\"}'),\n",
      " Example(input_text='I need to know the weather in Sydney', tool_name='get_weather_info', tool_parameters='{\"location\": \"Sydney\"}')]\n"
     ]
    }
   ],
   "source": [
    "# The schema for get_weather_info tool\n",
    "tool_schema = {\n",
    "    \"name\": \"get_weather_info\",\n",
    "    \"description\": \"Get the weather information for any location.\",\n",
    "    \"parameters\": {\n",
    "        \"type\": \"object\",\n",
    "        \"properties\": {\n",
    "            \"location\": {\n",
    "                \"type\": \"string\",\n",
    "                \"description\": \"The location for which we want to get the weather information (e.g. New York)\"\n",
    "            }\n",
    "        },\n",
    "        \"required\": [\"location\"]\n",
    "    }\n",
    "}\n",
    "\n",
    "# Patch Groq() with instructor, this is where the magic happens!\n",
    "client = instructor.from_groq(Groq(), mode=instructor.Mode.JSON)\n",
    "\n",
    "# Call the API with our custom prompt and ResponseModel\n",
    "response = client.chat.completions.create(\n",
    "    model=\"llama-3.1-70b-versatile\",\n",
    "    response_model=ResponseModel, # Specify the response model\n",
    "    messages=[\n",
    "        {\n",
    "            \"role\": \"system\", \n",
    "            \"content\": prompt.format(json_schema=tool_schema, num=5), # Pass the tool schema and number of examples to the prompt\n",
    "        },\n",
    "    ],\n",
    "    temperature=0.65,\n",
    "    max_tokens=8000,\n",
    ")\n",
    "\n",
    "print(type(response))\n",
    "pprint(response.examples)"
   ]
  }
 ],
 "metadata": {
  "kernelspec": {
   "display_name": "groq-tutorials-er2cHEC7-py3.12",
   "language": "python",
   "name": "python3"
  },
  "language_info": {
   "codemirror_mode": {
    "name": "ipython",
    "version": 3
   },
   "file_extension": ".py",
   "mimetype": "text/x-python",
   "name": "python",
   "nbconvert_exporter": "python",
   "pygments_lexer": "ipython3",
   "version": "3.12.4"
  }
 },
 "nbformat": 4,
 "nbformat_minor": 2
}
