{
 "cells": [
  {
   "cell_type": "code",
   "execution_count": 1,
   "metadata": {},
   "outputs": [
    {
     "name": "stderr",
     "output_type": "stream",
     "text": [
      "\n",
      "[notice] A new release of pip is available: 24.2 -> 24.3.1\n",
      "[notice] To update, run: python.exe -m pip install --upgrade pip\n"
     ]
    }
   ],
   "source": [
    "!pip install -q groq gradio"
   ]
  },
  {
   "cell_type": "code",
   "execution_count": 24,
   "metadata": {},
   "outputs": [
    {
     "data": {
      "text/plain": [
       "True"
      ]
     },
     "execution_count": 24,
     "metadata": {},
     "output_type": "execute_result"
    }
   ],
   "source": [
    "import base64\n",
    "import io\n",
    "import gradio as gr\n",
    "from groq import Groq\n",
    "from PIL import Image\n",
    "import requests\n",
    "\n",
    "from dotenv import load_dotenv\n",
    "load_dotenv()\n"
   ]
  },
  {
   "cell_type": "code",
   "execution_count": 25,
   "metadata": {},
   "outputs": [],
   "source": [
    "from dotenv import load_dotenv\n",
    "import os\n",
    "\n",
    "# Load environment variables\n",
    "load_dotenv()\n",
    "\n",
    "# Retrieve the GROQ API Key\n",
    "GROQ_API_KEY = os.getenv(\"GROQ_API_KEY\")\n",
    "if not GROQ_API_KEY:\n",
    "    raise ValueError(\"GROQ_API_KEY is not set in the .env file.\")\n"
   ]
  },
  {
   "cell_type": "code",
   "execution_count": 26,
   "metadata": {},
   "outputs": [],
   "source": [
    "# Step 3 - Implement Image encoding functions\n",
    "def encode_image(image):\n",
    "    buffered= io.BytesIO()\n",
    "    image.save(buffered, format=\"PNG\")\n",
    "    return base64.b64encode(buffered.getvalue()).decode('utf-8')"
   ]
  },
  {
   "cell_type": "code",
   "execution_count": 31,
   "metadata": {},
   "outputs": [],
   "source": [
    "# Step 4: Implement Image Analysis Function\n",
    "api_key = os.getenv(\"GROQ_API_KEY\")\n",
    "def analyze_image(image, prompt, api_key, is_url=False):\n",
    "    client = Groq(api_key=api_key)\n",
    "\n",
    "    if is_url:\n",
    "        image_content = {\"type\": \"image_url\", \"image_url\": {\"url\": image}}\n",
    "    else:\n",
    "        base64_image = encode_image(image)\n",
    "        image_content = {\"type\": \"image_url\", \"image_url\": {\"url\": f\"data:image/jpeg;base64,{base64_image}\"}}\n",
    "\n",
    "    try:\n",
    "        chat_completion = client.chat.completions.create(\n",
    "            messages=[\n",
    "                {\n",
    "                    \"role\": \"user\",\n",
    "                    \"content\": [\n",
    "                        {\"type\": \"text\", \"text\": prompt},\n",
    "                        image_content,\n",
    "                    ],\n",
    "                }\n",
    "            ],\n",
    "            model=\"llama-3.2-11b-vision-preview\",\n",
    "        )\n",
    "        return chat_completion.choices[0].message.content\n",
    "    except Exception as e:\n",
    "        return f\"Error: {str(e)}\""
   ]
  },
  {
   "cell_type": "code",
   "execution_count": 32,
   "metadata": {},
   "outputs": [],
   "source": [
    "# Step 5: Implement Content Safety Check Function\n",
    "def check_content_safety(image_description, api_key):\n",
    "    client = Groq(api_key=api_key)\n",
    "\n",
    "    try:\n",
    "        chat_completion = client.chat.completions.create(\n",
    "            messages=[\n",
    "                {\"role\": \"system\", \"content\": \"You are a content safety classifier. Analyze the given text and determine if it contains any unsafe or inappropriate content.\"},\n",
    "                {\"role\": \"user\", \"content\": f\"Please analyze this image description for any unsafe or inappropriate content: {image_description}\"}\n",
    "            ],\n",
    "            model=\"llama-guard-3-8b\",\n",
    "        )\n",
    "        return chat_completion.choices[0].message.content\n",
    "    except Exception as e:\n",
    "        return f\"Error: {str(e)}\""
   ]
  },
  {
   "cell_type": "code",
   "execution_count": 33,
   "metadata": {},
   "outputs": [],
   "source": [
    "# Step 6: Implement Image Processing Function\n",
    "\n",
    "def process_image(image, url, prompt, api_key):\n",
    "    if image is not None:\n",
    "        return analyze_image(image, prompt, api_key), check_content_safety(analyze_image(image, prompt, api_key), api_key)\n",
    "    elif url:\n",
    "        try:\n",
    "            response = requests.get(url)\n",
    "            image = Image.open(io.BytesIO(response.content))\n",
    "            return analyze_image(url, prompt, api_key, is_url=True), check_content_safety(analyze_image(url, prompt, api_key, is_url=True), api_key)\n",
    "        except:\n",
    "            return \"Invalid image URL. Please provide a direct link to an image.\", \"\"\n",
    "    else:\n",
    "        return \"Please provide an image to analyze.\", \"\"\n",
    "     "
   ]
  },
  {
   "cell_type": "code",
   "execution_count": 34,
   "metadata": {},
   "outputs": [
    {
     "name": "stdout",
     "output_type": "stream",
     "text": [
      "* Running on local URL:  http://127.0.0.1:7864\n",
      "\n",
      "To create a public link, set `share=True` in `launch()`.\n"
     ]
    },
    {
     "data": {
      "text/html": [
       "<div><iframe src=\"http://127.0.0.1:7864/\" width=\"100%\" height=\"500\" allow=\"autoplay; camera; microphone; clipboard-read; clipboard-write;\" frameborder=\"0\" allowfullscreen></iframe></div>"
      ],
      "text/plain": [
       "<IPython.core.display.HTML object>"
      ]
     },
     "metadata": {},
     "output_type": "display_data"
    }
   ],
   "source": [
    "#Step 7: Create Gradio Interface and Launch Application\n",
    "\n",
    "def launch():\n",
    "    with gr.Blocks(\n",
    "        theme=gr.themes.Default(primary_hue=\"orange\"),\n",
    "        css=\"\"\"\n",
    "        #app-container { max-width: 1000px; margin: auto; padding: 10px; }\n",
    "        #title { text-align: center; margin-bottom: 10px; font-size: 24px; }\n",
    "        #groq-badge { text-align: center; margin-top: 10px; }\n",
    "        .gr-button { border-radius: 15px; }\n",
    "        .gr-input, .gr-box { border-radius: 10px; }\n",
    "        .gr-form { gap: 5px; }\n",
    "        .gr-block.gr-box { padding: 10px; }\n",
    "        .gr-paddle { height: auto; }\n",
    "        \"\"\"\n",
    "    ) as demo:\n",
    "        with gr.Column(elem_id=\"app-container\"):\n",
    "            gr.Markdown(\"# 🖼️ Groq x Gradio Image Analysis and Content Safety Check\", elem_id=\"title\")\n",
    "            \n",
    "            with gr.Row():\n",
    "                api_key = gr.Textbox(label=\"Groq API Key:\", type=\"password\", scale=2)\n",
    "                prompt = gr.Textbox(\n",
    "                    label=\"Image Analysis Prompt:\",\n",
    "                    value=\"Describe the image content.\",\n",
    "                    scale=3\n",
    "                )\n",
    "            \n",
    "            with gr.Row():\n",
    "                with gr.Column(scale=1):\n",
    "                    image_input = gr.Image(type=\"pil\", label=\"Upload Image:\", height=200, sources=[\"upload\"])\n",
    "                with gr.Column(scale=1):\n",
    "                    url_input = gr.Textbox(label=\"Or Paste Image URL:\", lines=1)\n",
    "                    analyze_button = gr.Button(\"🚀 Analyze Image\", variant=\"primary\")\n",
    "            \n",
    "            with gr.Row():\n",
    "                with gr.Column():\n",
    "                    analysis_output = gr.Textbox(label=\"Image Analysis with LlaVA 1.5 7B:\", lines=6)\n",
    "                with gr.Column():\n",
    "                    safety_output = gr.Textbox(label=\"Safety Check with Llama Guard 3 8B:\", lines=6)\n",
    "            \n",
    "            analyze_button.click(\n",
    "                fn=process_image,\n",
    "                inputs=[image_input, url_input, prompt, api_key],\n",
    "                outputs=[analysis_output, safety_output]\n",
    "            )\n",
    "            \n",
    "            with gr.Row():\n",
    "                with gr.Column():\n",
    "                    gr.HTML(\"\"\"\n",
    "                    \n",
    "                        ⚡ POWERED BY GROQ ⚡\n",
    "                    \n",
    "                    \"\"\")\n",
    "                    \n",
    "                with gr.Column():\n",
    "                    gr.Markdown(\"\"\"\n",
    "                    **How to use this app:** \n",
    "                    1. Enter your [Groq API Key](https://console.groq.com/keys) in the provided field.\n",
    "                    2. Upload an image file or paste an image URL.\n",
    "                    3. Use default prompt or enter custom prompt for image analysis.\n",
    "                    4. Click \"Analyze Image\" to check for content safety.\n",
    "                    \"\"\")\n",
    "    \n",
    "    demo.launch()\n",
    "\n",
    "if __name__ == \"__main__\":\n",
    "    launch()\n"
   ]
  },
  {
   "cell_type": "code",
   "execution_count": null,
   "metadata": {},
   "outputs": [],
   "source": []
  }
 ],
 "metadata": {
  "kernelspec": {
   "display_name": "groq-tutorials-er2cHEC7-py3.12",
   "language": "python",
   "name": "python3"
  },
  "language_info": {
   "codemirror_mode": {
    "name": "ipython",
    "version": 3
   },
   "file_extension": ".py",
   "mimetype": "text/x-python",
   "name": "python",
   "nbconvert_exporter": "python",
   "pygments_lexer": "ipython3",
   "version": "3.12.4"
  }
 },
 "nbformat": 4,
 "nbformat_minor": 2
}
